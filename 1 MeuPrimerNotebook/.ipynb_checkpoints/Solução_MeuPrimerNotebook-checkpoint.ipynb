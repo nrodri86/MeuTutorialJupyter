{
 "cells": [
  {
   "cell_type": "markdown",
   "metadata": {},
   "source": [
    "# Meu Primeiro Notebook\n",
    "\n",
    "Este é um tutorial de como documentar um notebook usando a lenguagem do 'Markdown'."
   ]
  },
  {
   "cell_type": "markdown",
   "metadata": {},
   "source": [
    "# Python"
   ]
  },
  {
   "cell_type": "markdown",
   "metadata": {},
   "source": [
    "## Por que Python é uma boa liguagem para aprender analises de dados?"
   ]
  },
  {
   "cell_type": "markdown",
   "metadata": {},
   "source": [
    "Python é uma linguagem que favorece a leitura de seu código e tem muita expressividade. Também é uma ferramenta versátil, pode ter um caso que Python não seja a melhor solução para resolver os problemas mas entre as alternativas sempre esta na segunda posição. Também tem muitas ferramentas de analises de dados como pandas, numpy, skelearn, bokeh entre outras que são ferramentas conhecidas no medio de datascience que são open source. "
   ]
  },
  {
   "cell_type": "markdown",
   "metadata": {},
   "source": [
    "## Qual é o ZEN do Python?"
   ]
  },
  {
   "cell_type": "markdown",
   "metadata": {},
   "source": [
    "*Beautiful is better than ugly.*  \n",
    "*Explicit is better than implicit.*  \n",
    "*Simple is better than complex.*  \n",
    "*Complex is better than complicated.*  \n",
    "*Flat is better than nested.*  \n",
    "*Sparse is better than dense.*  \n",
    "*Readability counts.*  \n",
    "*Special cases aren't special enough to break the rules.*  \n",
    "*Although practicality beats purity.*  \n",
    "*Errors should never pass silently.*  \n",
    "*Unless explicitly silenced.*  \n",
    "*In the face of ambiguity, refuse the temptation to guess.*  \n",
    "*There should be one-- and preferably only one --obvious way to do it.*  \n",
    "*Although that way may not be obvious at first unless you're Dutch.*  \n",
    "*Now is better than never.*  \n",
    "*Although never is often better than *right* now.*  \n",
    "*If the implementation is hard to explain, it's a bad idea.*  \n",
    "*If the implementation is easy to explain, it may be a good idea.*  \n",
    "*Namespaces are one honking great idea -- let's do more of those!*  "
   ]
  },
  {
   "cell_type": "markdown",
   "metadata": {},
   "source": [
    "## Segundo o workshop de ANBIMA Analytics, quais são os melhores cursos para aprender analytics?"
   ]
  },
  {
   "cell_type": "markdown",
   "metadata": {},
   "source": [
    "1. **[Udemy-Jose Portilla](https://www.udemy.com/user/joseportilla/?key=taught_courses&taught_courses=1)**\n",
    "2. **[Udacity](https://www.udacity.com/course/programming-for-data-science-nanodegree--nd104)**\n",
    "3. **[Coursera-University of Michigan](https://www.coursera.org/specializations/data-science-python)**\n",
    "4. **[Kaggle-Maior Comunidade de Cientista de Dados](https://www.kaggle.com/learn/overview)**\n"
   ]
  },
  {
   "cell_type": "markdown",
   "metadata": {},
   "source": [
    "# Jupyter"
   ]
  },
  {
   "cell_type": "markdown",
   "metadata": {},
   "source": [
    "## Por que foi criado Jupyter?"
   ]
  },
  {
   "cell_type": "markdown",
   "metadata": {},
   "source": [
    "Antes os cientistas tinham uma dificultade para reproducir e compartilhar código dos analises cientificos. A ideia é juntar documentação e código num mesmo lugar."
   ]
  },
  {
   "cell_type": "markdown",
   "metadata": {},
   "source": [
    "## Por quem foi criado Jupyter?"
   ]
  },
  {
   "cell_type": "markdown",
   "metadata": {},
   "source": [
    "![alt Fernando Perez](imagens/fernando_perez.png \"Fernando Perez Criador de Jupyter\")  \n",
    "**Colombiano Fernando Perez criador de Jupyter**"
   ]
  },
  {
   "cell_type": "markdown",
   "metadata": {},
   "source": [
    "# Markdown"
   ]
  },
  {
   "cell_type": "markdown",
   "metadata": {},
   "source": [
    "Texto com ênfase:\n",
    "\n",
    "*enfatizado* (e.g., itálico)\n",
    "\n",
    "**fortemente enfatizado** (e.g., negrito)\n",
    "\n",
    "Código:\n",
    "\n",
    "`codigo`\n",
    "\n",
    "Listas:\n",
    "\n",
    "* Um item em uma lista não ordenada\n",
    "* Outro item em uma lista não ordenada\n",
    "\n",
    "1. Um item em uma lista ordenada\n",
    "2. Outro item em uma lista ordenada\n",
    "\n",
    "Cabeçalhos:\n",
    "\n",
    "# Cabeçalho de primeiro nível\n",
    "\n",
    "#### Cabeçalho de quarto nível\n",
    "\n",
    "Sintaxe alternativa para os dois primeiros cabeçalhos:\n",
    "\n",
    "Cabeçalho de primeiro nível\n",
    "====================\n",
    "\n",
    "Cabeçalho de segundo nível\n",
    "--------------------\n",
    "\n",
    "Citações:\n",
    "\n",
    "> Esse texto será envolto pelo elemento HTML blockquote.\n",
    "\n",
    "Links:\n",
    "\n",
    "[Texto do link aqui](endereço.do.link.aqui \"título do link aqui\")\n",
    "\n",
    "Imagens:\n",
    "\n",
    "![Texto alt da imagem aqui](imagens/Jupyter_logo.svg.png \"Título da Imagem aqui\")"
   ]
  },
  {
   "cell_type": "code",
   "execution_count": null,
   "metadata": {},
   "outputs": [],
   "source": []
  }
 ],
 "metadata": {
  "kernelspec": {
   "display_name": "Python 3",
   "language": "python",
   "name": "python3"
  },
  "language_info": {
   "codemirror_mode": {
    "name": "ipython",
    "version": 3
   },
   "file_extension": ".py",
   "mimetype": "text/x-python",
   "name": "python",
   "nbconvert_exporter": "python",
   "pygments_lexer": "ipython3",
   "version": "3.7.0"
  }
 },
 "nbformat": 4,
 "nbformat_minor": 4
}

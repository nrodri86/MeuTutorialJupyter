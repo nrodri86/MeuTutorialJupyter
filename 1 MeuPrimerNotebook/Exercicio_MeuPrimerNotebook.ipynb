{
 "cells": [
  {
   "cell_type": "markdown",
   "metadata": {},
   "source": [
    "# Meu Primeiro Notebook\n",
    "\n",
    "Este é um tutorial de como documentar um notebook usando a lenguagem do 'Markdown'."
   ]
  },
  {
   "cell_type": "markdown",
   "metadata": {},
   "source": [
    "# Python"
   ]
  },
  {
   "cell_type": "markdown",
   "metadata": {},
   "source": [
    "## Por que Python é uma boa liguagem para aprender analises de dados?"
   ]
  },
  {
   "cell_type": "code",
   "execution_count": null,
   "metadata": {},
   "outputs": [],
   "source": []
  },
  {
   "cell_type": "markdown",
   "metadata": {},
   "source": [
    "## Qual é o ZEN do Python?"
   ]
  },
  {
   "cell_type": "code",
   "execution_count": null,
   "metadata": {},
   "outputs": [],
   "source": []
  },
  {
   "cell_type": "markdown",
   "metadata": {},
   "source": [
    "## Segundo o workshop de ANBIMA Analytics, quais são os melhores cursos para aprender analytics?"
   ]
  },
  {
   "cell_type": "code",
   "execution_count": null,
   "metadata": {},
   "outputs": [],
   "source": []
  },
  {
   "cell_type": "markdown",
   "metadata": {},
   "source": [
    "# Jupyter"
   ]
  },
  {
   "cell_type": "markdown",
   "metadata": {},
   "source": [
    "## Por que foi criado Jupyter?"
   ]
  },
  {
   "cell_type": "code",
   "execution_count": null,
   "metadata": {},
   "outputs": [],
   "source": []
  },
  {
   "cell_type": "markdown",
   "metadata": {},
   "source": [
    "## Por quem foi criado Jupyter?"
   ]
  },
  {
   "cell_type": "code",
   "execution_count": null,
   "metadata": {},
   "outputs": [],
   "source": []
  },
  {
   "cell_type": "markdown",
   "metadata": {},
   "source": [
    "# Markdown"
   ]
  },
  {
   "cell_type": "markdown",
   "metadata": {},
   "source": [
    "Texto com ênfase:\n",
    "\n",
    "*enfatizado* (e.g., itálico)\n",
    "\n",
    "**fortemente enfatizado** (e.g., negrito)\n",
    "\n",
    "Código:\n",
    "\n",
    "`codigo`\n",
    "\n",
    "Listas:\n",
    "\n",
    "* Um item em uma lista não ordenada\n",
    "* Outro item em uma lista não ordenada\n",
    "\n",
    "1. Um item em uma lista ordenada\n",
    "2. Outro item em uma lista ordenada\n",
    "\n",
    "Cabeçalhos:\n",
    "\n",
    "# Cabeçalho de primeiro nível\n",
    "\n",
    "#### Cabeçalho de quarto nível\n",
    "\n",
    "Sintaxe alternativa para os dois primeiros cabeçalhos:\n",
    "\n",
    "Cabeçalho de primeiro nível\n",
    "====================\n",
    "\n",
    "Cabeçalho de segundo nível\n",
    "--------------------\n",
    "\n",
    "Citações:\n",
    "\n",
    "> Esse texto será envolto pelo elemento HTML blockquote.\n",
    "\n",
    "Links:\n",
    "\n",
    "[Markdown CheatSheet](https://github.com/adam-p/markdown-here/wiki/Markdown-Cheatsheet#images \"título do link aqui\")\n",
    "\n",
    "Imagens:\n",
    "\n",
    "![Texto alt da imagem aqui](imagens/Jupyter_logo.svg.png \"Título da Imagem aqui\")"
   ]
  }
 ],
 "metadata": {
  "kernelspec": {
   "display_name": "Python 3",
   "language": "python",
   "name": "python3"
  },
  "language_info": {
   "codemirror_mode": {
    "name": "ipython",
    "version": 3
   },
   "file_extension": ".py",
   "mimetype": "text/x-python",
   "name": "python",
   "nbconvert_exporter": "python",
   "pygments_lexer": "ipython3",
   "version": "3.7.0"
  }
 },
 "nbformat": 4,
 "nbformat_minor": 4
}
